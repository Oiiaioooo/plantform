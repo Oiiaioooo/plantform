{
 "cells": [
  {
   "cell_type": "code",
   "execution_count": 12,
   "id": "initial_id",
   "metadata": {
    "collapsed": true,
    "ExecuteTime": {
     "end_time": "2023-11-20T14:07:29.634684400Z",
     "start_time": "2023-11-20T14:07:29.620649900Z"
    }
   },
   "outputs": [
    {
     "name": "stdout",
     "output_type": "stream",
     "text": [
      "{'nodes': [{'id': '6465e924-c2e4-4968-b73c-5a5b1bde9a4c', 'type': 'capacitance_box', 'x': 370, 'y': 250, 'properties': {'anchorCnode': {'P': 1, 'N': 2}}, 'zIndex': 0, 'Anchors': [{'x': 565.69924, 'y': 245.38, 'type': 'P', 'edgeAddable': True, 'id': '6465e924-c2e4-4968-b73c-5a5b1bde9a4c_P'}, {'x': 566.55757, 'y': 296.2, 'type': 'N', 'id': '6465e924-c2e4-4968-b73c-5a5b1bde9a4c_N'}]}, {'id': '3ae90db4-7787-4e79-beaf-891e5bb758b4', 'type': 'inductance_box', 'x': 370, 'y': 600, 'properties': {'anchorCnode': {'P': 1, 'N': 3}}, 'zIndex': 0, 'Anchors': [{'x': 326.57, 'y': 505.75, 'type': 'P', 'edgeAddable': True, 'id': '3ae90db4-7787-4e79-beaf-891e5bb758b4_P'}, {'x': 410.4, 'y': 505.75, 'type': 'N', 'id': '3ae90db4-7787-4e79-beaf-891e5bb758b4_N'}]}, {'id': 'c68052ac-62d5-49f5-a9eb-aa71441c6dd9', 'type': 'resistance_box', 'x': 380, 'y': 390, 'properties': {'anchorCnode': {'P': 2, 'N': 1}}, 'zIndex': 0, 'Anchors': [{'x': 575.624, 'y': 340.35, 'type': 'P', 'edgeAddable': True, 'id': 'c68052ac-62d5-49f5-a9eb-aa71441c6dd9_P'}, {'x': 579.056, 'y': 441.9, 'type': 'N', 'id': 'c68052ac-62d5-49f5-a9eb-aa71441c6dd9_N'}]}], 'edges': []}\n"
     ]
    }
   ],
   "source": [
    "\n",
    "import json\n",
    "import numpy as np\n",
    "from munch import DefaultMunch\n",
    "circuit_data=\\\n",
    "    \"\"\"\n",
    "    {\n",
    "\"nodes\": [\n",
    "{\n",
    "\"id\": \"6465e924-c2e4-4968-b73c-5a5b1bde9a4c\",\n",
    "\"type\": \"capacitance_box\",\n",
    "\"x\": 370,\n",
    "\"y\": 250,\n",
    "\"properties\": {\n",
    "\"anchorCnode\": {\n",
    "\"P\": 1,\n",
    "\"N\": 2\n",
    "}\n",
    "},\n",
    "\"zIndex\": 0,\n",
    "\"Anchors\": [\n",
    "{\n",
    "\"x\": 565.69924,\n",
    "\"y\": 245.38,\n",
    "\"type\": \"P\",\n",
    "\"edgeAddable\": true,\n",
    "\"id\": \"6465e924-c2e4-4968-b73c-5a5b1bde9a4c_P\"\n",
    "},\n",
    "{\n",
    "\"x\": 566.55757,\n",
    "\"y\": 296.2,\n",
    "\"type\": \"N\",\n",
    "\"id\": \"6465e924-c2e4-4968-b73c-5a5b1bde9a4c_N\"\n",
    "}\n",
    "]\n",
    "},\n",
    "{\n",
    "\"id\": \"3ae90db4-7787-4e79-beaf-891e5bb758b4\",\n",
    "\"type\": \"inductance_box\",\n",
    "\"x\": 370,\n",
    "\"y\": 600,\n",
    "\"properties\": {\n",
    "\"anchorCnode\": {\n",
    "\"P\": 1,\n",
    "\"N\": 3\n",
    "}\n",
    "},\n",
    "\"zIndex\": 0,\n",
    "\"Anchors\": [\n",
    "{\n",
    "\"x\": 326.57,\n",
    "\"y\": 505.75,\n",
    "\"type\": \"P\",\n",
    "\"edgeAddable\": true,\n",
    "\"id\": \"3ae90db4-7787-4e79-beaf-891e5bb758b4_P\"\n",
    "},\n",
    "{\n",
    "\"x\": 410.4,\n",
    "\"y\": 505.75,\n",
    "\"type\": \"N\",\n",
    "\"id\": \"3ae90db4-7787-4e79-beaf-891e5bb758b4_N\"\n",
    "}\n",
    "]\n",
    "},\n",
    "{\n",
    "\"id\": \"c68052ac-62d5-49f5-a9eb-aa71441c6dd9\",\n",
    "\"type\": \"resistance_box\",\n",
    "\"x\": 380,\n",
    "\"y\": 390,\n",
    "\"properties\": {\n",
    "\"anchorCnode\": {\n",
    "\"P\": 2,\n",
    "\"N\": 1\n",
    "}\n",
    "},\n",
    "\"zIndex\": 0,\n",
    "\"Anchors\": [\n",
    "{\n",
    "\"x\": 575.624,\n",
    "\"y\": 340.35,\n",
    "\"type\": \"P\",\n",
    "\"edgeAddable\": true,\n",
    "\"id\": \"c68052ac-62d5-49f5-a9eb-aa71441c6dd9_P\"\n",
    "},\n",
    "{\n",
    "\"x\": 579.056,\n",
    "\"y\": 441.9,\n",
    "\"type\": \"N\",\n",
    "\"id\": \"c68052ac-62d5-49f5-a9eb-aa71441c6dd9_N\"\n",
    "}\n",
    "]\n",
    "}\n",
    "],\n",
    "\"edges\": [\n",
    "]\n",
    "}\n",
    "\"\"\"\n",
    "circuit_data = json.loads(circuit_data)\n",
    "print(circuit_data)"
   ]
  },
  {
   "cell_type": "code",
   "execution_count": 17,
   "outputs": [
    {
     "name": "stdout",
     "output_type": "stream",
     "text": [
      "6465e924-c2e4-4968-b73c-5a5b1bde9a4c_P\n",
      "6465e924-c2e4-4968-b73c-5a5b1bde9a4c_N\n",
      "3ae90db4-7787-4e79-beaf-891e5bb758b4_P\n",
      "3ae90db4-7787-4e79-beaf-891e5bb758b4_N\n",
      "c68052ac-62d5-49f5-a9eb-aa71441c6dd9_P\n",
      "c68052ac-62d5-49f5-a9eb-aa71441c6dd9_N\n",
      "{'6465e924-c2e4-4968-b73c-5a5b1bde9a4c_P': 1, '6465e924-c2e4-4968-b73c-5a5b1bde9a4c_N': 2, '3ae90db4-7787-4e79-beaf-891e5bb758b4_P': 1, '3ae90db4-7787-4e79-beaf-891e5bb758b4_N': 3, 'c68052ac-62d5-49f5-a9eb-aa71441c6dd9_P': 2, 'c68052ac-62d5-49f5-a9eb-aa71441c6dd9_N': 1}\n"
     ]
    }
   ],
   "source": [
    "# anchor-Cnode 字典\n",
    "A_CNode_dict = {}\n",
    "# 得到每一个电路节点对应的锚点(即节点id+锚点type)\n",
    "for node in circuit_data['nodes']:\n",
    "    # print(node['id'])\n",
    "    anchorCnode = node['properties']['anchorCnode']\n",
    "    for anchor in node['Anchors']:\n",
    "        print(anchor['id'])\n",
    "        try:\n",
    "            A_CNode_dict[anchor['id']] = anchorCnode[anchor['type']]\n",
    "        except:\n",
    "            pass\n",
    "        \n",
    "print(A_CNode_dict)\n"
   ],
   "metadata": {
    "collapsed": false,
    "ExecuteTime": {
     "end_time": "2023-11-20T14:21:07.287624400Z",
     "start_time": "2023-11-20T14:21:07.265784200Z"
    }
   },
   "id": "7ef10fb31a53394f"
  },
  {
   "cell_type": "code",
   "execution_count": 18,
   "outputs": [
    {
     "name": "stdout",
     "output_type": "stream",
     "text": [
      "{1: ['6465e924-c2e4-4968-b73c-5a5b1bde9a4c_P', '3ae90db4-7787-4e79-beaf-891e5bb758b4_P', 'c68052ac-62d5-49f5-a9eb-aa71441c6dd9_N'], 2: ['6465e924-c2e4-4968-b73c-5a5b1bde9a4c_N', 'c68052ac-62d5-49f5-a9eb-aa71441c6dd9_P'], 3: ['3ae90db4-7787-4e79-beaf-891e5bb758b4_N']}\n"
     ]
    }
   ],
   "source": [
    "# 创建一个空字典来存储结果\n",
    "CNode_A_dict = {}\n",
    "\n",
    "# 遍历 A_CNode_dict 字典\n",
    "for anchor, cnode in A_CNode_dict.items():\n",
    "    # 如果 cnode 已经在 CNode_A_dict 字典中，就将 anchor 添加到对应的列表中\n",
    "    if cnode in CNode_A_dict:\n",
    "        CNode_A_dict[cnode].append(anchor)\n",
    "    # 否则，创建一个新的列表来存储 anchor\n",
    "    else:\n",
    "        CNode_A_dict[cnode] = [anchor]\n",
    "\n",
    "print(CNode_A_dict)"
   ],
   "metadata": {
    "collapsed": false,
    "ExecuteTime": {
     "end_time": "2023-11-20T14:22:34.539162Z",
     "start_time": "2023-11-20T14:22:34.518808300Z"
    }
   },
   "id": "26d2c74686637517"
  },
  {
   "cell_type": "code",
   "execution_count": 22,
   "outputs": [
    {
     "data": {
      "text/plain": "2"
     },
     "execution_count": 22,
     "metadata": {},
     "output_type": "execute_result"
    }
   ],
   "source": [
    "x={'C1':2}\n",
    "x = DefaultMunch.fromDict(x)\n",
    "x.C1"
   ],
   "metadata": {
    "collapsed": false,
    "ExecuteTime": {
     "end_time": "2023-11-20T15:13:41.045322400Z",
     "start_time": "2023-11-20T15:13:41.030362600Z"
    }
   },
   "id": "147eeb628a40f152"
  },
  {
   "cell_type": "code",
   "execution_count": 4,
   "outputs": [
    {
     "name": "stdout",
     "output_type": "stream",
     "text": [
      "Graph1 contains cycle: False\n",
      "Graph2 contains cycle: True\n"
     ]
    }
   ],
   "source": [
    "def is_cyclic_util(graph, v, visited, parent):\n",
    "    visited[v] = True\n",
    "\n",
    "    # 遍历邻接节点\n",
    "    for i in range(len(graph)):\n",
    "        if graph[v][i] > 0: # 如果存在连接\n",
    "            if not visited[i]: # 如果未访问\n",
    "                if is_cyclic_util(graph, i, visited, v):\n",
    "                    return True\n",
    "            elif i != parent: # 如果邻接节点不是父节点，则存在回路\n",
    "                return True\n",
    "    return False\n",
    "\n",
    "def is_cyclic(graph):\n",
    "    visited = [False] * len(graph)\n",
    "\n",
    "    # 对每个节点进行DFS\n",
    "    for i in range(len(graph)):\n",
    "        if not visited[i]:\n",
    "            if is_cyclic_util(graph, i, visited, -1):\n",
    "                return True\n",
    "    return False\n",
    "\n",
    "\n",
    "# 测试代码\n",
    "graph1 = [[0, 1, 2], [1, 0, 0], [2, 0, 0]]\n",
    "graph2 = [[0, 1, 2], [1, 0, 3], [2, 3, 0]]\n",
    "\n",
    "print(\"Graph1 contains cycle:\", is_cyclic(graph1))\n",
    "print(\"Graph2 contains cycle:\", is_cyclic(graph2))\n"
   ],
   "metadata": {
    "collapsed": false,
    "ExecuteTime": {
     "end_time": "2023-11-21T04:57:31.763819300Z",
     "start_time": "2023-11-21T04:57:31.744813900Z"
    }
   },
   "id": "f63bb1cb73588557"
  },
  {
   "cell_type": "code",
   "execution_count": 5,
   "outputs": [
    {
     "data": {
      "text/plain": "True"
     },
     "execution_count": 5,
     "metadata": {},
     "output_type": "execute_result"
    }
   ],
   "source": [
    "graph3=[[0,0,1,1],\n",
    "        [0,0,1,1],\n",
    "        [1,1,0,0],\n",
    "        [1,1,0,0]]\n",
    "is_cyclic(graph2)"
   ],
   "metadata": {
    "collapsed": false,
    "ExecuteTime": {
     "end_time": "2023-11-21T04:57:33.500842900Z",
     "start_time": "2023-11-21T04:57:33.487842900Z"
    }
   },
   "id": "4f9f9f55f7d4842e"
  },
  {
   "cell_type": "code",
   "execution_count": 6,
   "outputs": [
    {
     "name": "stdout",
     "output_type": "stream",
     "text": [
      "The matrix contains a cycle: True\n"
     ]
    }
   ],
   "source": [
    "def is_cyclic_util(graph, v, visited, parent):\n",
    "    visited[v] = True\n",
    "\n",
    "    # 遍历邻接节点\n",
    "    for i in range(len(graph)):\n",
    "        if graph[v][i] > 0: # 如果存在连接\n",
    "            if not visited[i]: # 如果未访问\n",
    "                if is_cyclic_util(graph, i, visited, v):\n",
    "                    return True\n",
    "            elif i != parent: # 如果邻接节点不是父节点，则存在回路\n",
    "                return True\n",
    "    return False\n",
    "\n",
    "def is_cyclic(graph):\n",
    "    visited = [False] * len(graph)\n",
    "\n",
    "    # 对每个节点进行DFS\n",
    "    for i in range(len(graph)):\n",
    "        if not visited[i]:\n",
    "            if is_cyclic_util(graph, i, visited, -1):\n",
    "                return True\n",
    "    return False\n",
    "\n",
    "# 测试代码\n",
    "graph = [[0, 0, 1, 1],\n",
    "         [0, 0, 1, 1],\n",
    "         [1, 1, 0, 0],\n",
    "         [1, 1, 0, 0]]\n",
    "\n",
    "print(\"The matrix contains a cycle:\", is_cyclic(graph))"
   ],
   "metadata": {
    "collapsed": false,
    "ExecuteTime": {
     "end_time": "2023-11-21T04:58:12.637802900Z",
     "start_time": "2023-11-21T04:58:12.614790Z"
    }
   },
   "id": "b70256ecf8d60302"
  },
  {
   "cell_type": "code",
   "execution_count": 7,
   "outputs": [
    {
     "name": "stdout",
     "output_type": "stream",
     "text": [
      "The matrix contains a cycle: True\n"
     ]
    }
   ],
   "source": [
    "def find_parent(parent, i):\n",
    "    if parent[i] == i:\n",
    "        return i\n",
    "    return find_parent(parent, parent[i])\n",
    "\n",
    "def union(parent, x, y):\n",
    "    x_root = find_parent(parent, x)\n",
    "    y_root = find_parent(parent, y)\n",
    "    if x_root == y_root:\n",
    "        return True\n",
    "    parent[x_root] = y_root\n",
    "    return False\n",
    "\n",
    "def is_cyclic(graph):\n",
    "    n = len(graph)\n",
    "    parent = [i for i in range(n)]\n",
    "\n",
    "    for i in range(n):\n",
    "        for j in range(i + 1, n):\n",
    "            if graph[i][j] > 0:\n",
    "                if union(parent, i, j):\n",
    "                    return True\n",
    "    return False\n",
    "\n",
    "# 测试代码\n",
    "graph = [[0, 0, 1, 1],\n",
    "         [0, 0, 1, 1],\n",
    "         [1, 1, 0, 0],\n",
    "         [1, 1, 0, 0]]\n",
    "\n",
    "print(\"The matrix contains a cycle:\", is_cyclic(graph))\n"
   ],
   "metadata": {
    "collapsed": false,
    "ExecuteTime": {
     "end_time": "2023-11-21T04:58:59.625065100Z",
     "start_time": "2023-11-21T04:58:59.595066Z"
    }
   },
   "id": "321ae659930c7af6"
  },
  {
   "cell_type": "code",
   "execution_count": 8,
   "outputs": [
    {
     "name": "stdout",
     "output_type": "stream",
     "text": [
      "The matrix contains a cycle: False\n"
     ]
    }
   ],
   "source": [
    "def is_cyclic(graph):\n",
    "    n = len(graph)\n",
    "    for i in range(n):\n",
    "        for j in range(n):\n",
    "            # 如果节点 i 和 j 连接\n",
    "            if graph[i][j] > 0:\n",
    "                # 检查是否存在第三个节点 k，使得 i 和 k、j 和 k 也相连\n",
    "                for k in range(n):\n",
    "                    if k != i and k != j and graph[i][k] > 0 and graph[j][k] > 0:\n",
    "                        return True\n",
    "    return False\n",
    "\n",
    "# 测试代码\n",
    "graph = [[0, 0, 1, 1],\n",
    "         [0, 0, 1, 1],\n",
    "         [1, 1, 0, 0],\n",
    "         [1, 1, 0, 0]]\n",
    "\n",
    "print(\"The matrix contains a cycle:\", is_cyclic(graph))\n"
   ],
   "metadata": {
    "collapsed": false,
    "ExecuteTime": {
     "end_time": "2023-11-21T05:00:06.542945Z",
     "start_time": "2023-11-21T05:00:06.511945Z"
    }
   },
   "id": "d6ef5437045bda21"
  },
  {
   "cell_type": "code",
   "execution_count": 9,
   "outputs": [
    {
     "name": "stdout",
     "output_type": "stream",
     "text": [
      "False\n",
      "True\n"
     ]
    }
   ],
   "source": [
    "def has_cycle(matrix):\n",
    "    def dfs(node, parent):\n",
    "        visited[node] = True\n",
    "        for neighbor in range(len(matrix)):\n",
    "            if matrix[node][neighbor] > 0:\n",
    "                if not visited[neighbor]:\n",
    "                    if dfs(neighbor, node):\n",
    "                        return True\n",
    "                elif neighbor != parent:\n",
    "                    return True\n",
    "        return False\n",
    "\n",
    "    n = len(matrix)\n",
    "    visited = [False] * n\n",
    "    for i in range(n):\n",
    "        if not visited[i]:\n",
    "            if dfs(i, -1):\n",
    "                return True\n",
    "    return False\n",
    "\n",
    "# 测试代码\n",
    "matrix1 = [[0, 1, 2], [1, 0, 0], [2, 0, 0]]\n",
    "matrix2 = [[0, 1, 2], [1, 0, 3], [2, 3, 0]]\n",
    "\n",
    "print(has_cycle(matrix1)) # 应该输出 False\n",
    "print(has_cycle(matrix2)) # 应该输出 True"
   ],
   "metadata": {
    "collapsed": false,
    "ExecuteTime": {
     "end_time": "2023-11-21T05:04:09.131121200Z",
     "start_time": "2023-11-21T05:04:09.080285700Z"
    }
   },
   "id": "393f68269d754f78"
  },
  {
   "cell_type": "code",
   "execution_count": 10,
   "outputs": [],
   "source": [
    "graph = [[0, 0, 1, 1],\n",
    "         [0, 0, 1, 1],\n",
    "         [1, 1, 0, 0],\n",
    "         [1, 1, 0, 0]]"
   ],
   "metadata": {
    "collapsed": false,
    "ExecuteTime": {
     "end_time": "2023-11-21T05:04:18.519993500Z",
     "start_time": "2023-11-21T05:04:18.484993200Z"
    }
   },
   "id": "5691aaa62586897e"
  },
  {
   "cell_type": "code",
   "execution_count": 11,
   "outputs": [
    {
     "name": "stdout",
     "output_type": "stream",
     "text": [
      "True\n"
     ]
    }
   ],
   "source": [
    "print(has_cycle(graph))"
   ],
   "metadata": {
    "collapsed": false,
    "ExecuteTime": {
     "end_time": "2023-11-21T05:04:22.522060500Z",
     "start_time": "2023-11-21T05:04:22.500461800Z"
    }
   },
   "id": "68ed9eca0eceeb47"
  },
  {
   "cell_type": "code",
   "execution_count": 12,
   "outputs": [
    {
     "data": {
      "text/plain": "True"
     },
     "execution_count": 12,
     "metadata": {},
     "output_type": "execute_result"
    }
   ],
   "source": [
    "def has_simple_cycle(matrix):\n",
    "    def dfs(node, parent, depth):\n",
    "        if visited[node]:\n",
    "            return depth >= 2  # 确保路径长度至少为3（包括起点和终点）\n",
    "\n",
    "        visited[node] = True\n",
    "        for neighbor in range(len(matrix)):\n",
    "            if matrix[node][neighbor] > 0 and neighbor != parent:\n",
    "                if dfs(neighbor, node, depth + 1):\n",
    "                    return True\n",
    "\n",
    "        visited[node] = False  # 撤销访问状态，以便其他路径可以使用这个节点\n",
    "        return False\n",
    "\n",
    "    n = len(matrix)\n",
    "    visited = [False] * n\n",
    "    for i in range(n):\n",
    "        if dfs(i, -1, 0):\n",
    "            return True\n",
    "    return False\n",
    "\n",
    "# 测试修改后的代码\n",
    "matrix3 = [\n",
    "    [0, 0, 1, 1],\n",
    "    [0, 0, 1, 1],\n",
    "    [1, 1, 0, 0],\n",
    "    [1, 1, 0, 0]\n",
    "]\n",
    "\n",
    "result3_modified = has_simple_cycle(matrix3)\n",
    "result3_modified\n"
   ],
   "metadata": {
    "collapsed": false,
    "ExecuteTime": {
     "end_time": "2023-11-21T05:06:37.135470Z",
     "start_time": "2023-11-21T05:06:37.119469800Z"
    }
   },
   "id": "af9ed13e8fe02a03"
  },
  {
   "cell_type": "code",
   "execution_count": 13,
   "outputs": [],
   "source": [],
   "metadata": {
    "collapsed": false,
    "ExecuteTime": {
     "end_time": "2023-11-21T05:10:06.060153Z",
     "start_time": "2023-11-21T05:10:06.018430400Z"
    }
   },
   "id": "d527ddee5eae603f"
  },
  {
   "cell_type": "code",
   "execution_count": 14,
   "outputs": [
    {
     "data": {
      "text/plain": "True"
     },
     "execution_count": 14,
     "metadata": {},
     "output_type": "execute_result"
    }
   ],
   "source": [],
   "metadata": {
    "collapsed": false,
    "ExecuteTime": {
     "end_time": "2023-11-21T05:10:13.361592100Z",
     "start_time": "2023-11-21T05:10:13.339585100Z"
    }
   },
   "id": "68eba420d9a580be"
  },
  {
   "cell_type": "code",
   "execution_count": null,
   "outputs": [],
   "source": [],
   "metadata": {
    "collapsed": false
   },
   "id": "b33488a65093b929"
  }
 ],
 "metadata": {
  "kernelspec": {
   "display_name": "Python 3",
   "language": "python",
   "name": "python3"
  },
  "language_info": {
   "codemirror_mode": {
    "name": "ipython",
    "version": 2
   },
   "file_extension": ".py",
   "mimetype": "text/x-python",
   "name": "python",
   "nbconvert_exporter": "python",
   "pygments_lexer": "ipython2",
   "version": "2.7.6"
  }
 },
 "nbformat": 4,
 "nbformat_minor": 5
}
